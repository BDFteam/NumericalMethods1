{
 "cells": [
  {
   "cell_type": "code",
   "execution_count": null,
   "source": [
    "import math\n",
    "import numpy as np\n",
    "import matplotlib.pyplot as plt\n",
    "import scipy\n",
    "from scipy import optimize"
   ],
   "outputs": [],
   "metadata": {}
  },
  {
   "cell_type": "code",
   "execution_count": null,
   "source": [
    "def jacobian(X):\n",
    "    Ja = np.zeros((4,4))\n",
    "    C = 299792.458\n",
    "    x = X[0,0]\n",
    "    y = X[1,0]\n",
    "    z = X[2,0]\n",
    "    D = X[3,0]\n",
    "    Ja[0,0] = 2 * (x - 15600)\n",
    "    Ja[1,0] = 2 * (x - 18760)\n",
    "    Ja[2,0] = 2 * (x - 17610)\n",
    "    Ja[3,0] = 2 * (x - 19170)\n",
    "   \n",
    "    Ja[0,1] = 2 * (y - 7540)\n",
    "    Ja[1,1] = 2 * (y - 2750)\n",
    "    Ja[2,1] = 2 * (y - 14630)\n",
    "    Ja[3,1] = 2 * (y - 610)\n",
    "   \n",
    "    Ja[0,2] = 2 * (z - 20140)\n",
    "    Ja[1,2] = 2 * (z - 18610)\n",
    "    Ja[2,2] = 2 * (z - 13480)\n",
    "    Ja[3,2] = 2 * (z - 18390)\n",
    "   \n",
    "    Ja[0,3] = 2 * (C**2) * 0.07074 - 2 * (C**2) * D\n",
    "    Ja[1,3] = 2 * (C**2) * 0.07220 - 2 * (C**2) * D\n",
    "    Ja[2,3] = 2 * (C**2) * 0.07690 - 2 * (C**2) * D\n",
    "    Ja[3,3] = 2 * (C**2) * 0.07242 - 2 * (C**2) * D\n",
    " \n",
    "    return Ja"
   ],
   "outputs": [],
   "metadata": {}
  },
  {
   "cell_type": "code",
   "execution_count": null,
   "source": [
    "def functions(X):\n",
    "    C = 299792.458\n",
    "    x = X[0,0]\n",
    "    y = X[1,0]\n",
    "    z = X[2,0]\n",
    "    D = X[3,0]\n",
    "    Fa = np.array([[0],[0],[0],[0]])\n",
    "    Fa[0,0] = (x - 15600)**2 + (y - 7540)**2 + (z - 20140)**2 - (C * (0.07074 - D))**2\n",
    "    Fa[1,0] = (x - 18760)**2 + (y - 2750)**2 + (z - 18610)**2 - (C * (0.07220 - D))**2\n",
    "    Fa[2,0] = (x - 17610)**2 + (y - 14630)**2 + (z - 13480)**2 - (C * (0.07690 - D))**2\n",
    "    Fa[3,0] = (x - 19170)**2 + (y - 610)**2 + (z - 18390)**2 - (C * (0.07242 - D))**2\n",
    "    return Fa"
   ],
   "outputs": [],
   "metadata": {}
  },
  {
   "cell_type": "code",
   "execution_count": null,
   "source": [
    "def test():\n",
    "    X = np.array([[0], [0], [6370], [0]])\n",
    "    for i in range(30):\n",
    "        F = functions(X)\n",
    "        J = jacobian(X)\n",
    "        H = np.linalg.solve(J, F)\n",
    "        X = X - H        \n",
    "    print(X)"
   ],
   "outputs": [],
   "metadata": {}
  },
  {
   "cell_type": "code",
   "execution_count": null,
   "source": [
    "test()"
   ],
   "outputs": [],
   "metadata": {}
  }
 ],
 "metadata": {
  "orig_nbformat": 4,
  "language_info": {
   "name": "python"
  }
 },
 "nbformat": 4,
 "nbformat_minor": 2
}