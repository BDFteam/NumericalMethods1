{
 "cells": [
  {
   "cell_type": "markdown",
   "source": [
    "# Excercise 1B.1"
   ],
   "metadata": {}
  },
  {
   "cell_type": "markdown",
   "source": [
    "## Imports, constants\n",
    "Import numpy, set constant light speed."
   ],
   "metadata": {}
  },
  {
   "cell_type": "code",
   "execution_count": 137,
   "source": [
    "import numpy as np\n",
    "\n",
    "LIGHT_SPEED = 299792.458"
   ],
   "outputs": [],
   "metadata": {}
  },
  {
   "cell_type": "markdown",
   "source": [
    "## Calculate Jacobian\n",
    "This function calculated the Jacobian of system (2). (Maybe insert here the formula)."
   ],
   "metadata": {}
  },
  {
   "cell_type": "code",
   "execution_count": 138,
   "source": [
    "def calculate_jacobian(\n",
    "    estimation: np.ndarray, \n",
    "    locations: np.ndarray, \n",
    "    transmission_times: np.ndarray\n",
    "):\n",
    "    jacobian = np.zeros((4,4))\n",
    "    \n",
    "    location_x = estimation[0,0]\n",
    "    location_y = estimation[1,0]\n",
    "    location_z = estimation[2,0]\n",
    "    time_difference = estimation[3,0]\n",
    "\n",
    "    jacobian[:,0] = 2 * (location_x - locations[:, 0])\n",
    "    jacobian[:,1] = 2 * (location_y - locations[:, 1])\n",
    "    jacobian[:,2] = 2 * (location_z - locations[:, 2])\n",
    "    jacobian[:,3] = 2 * (LIGHT_SPEED**2) * transmission_times - 2 * (LIGHT_SPEED**2) * time_difference\n",
    " \n",
    "    return jacobian"
   ],
   "outputs": [],
   "metadata": {}
  },
  {
   "cell_type": "markdown",
   "source": [
    "## Calculate System\n",
    "This function calculates the values of the system (2)."
   ],
   "metadata": {}
  },
  {
   "cell_type": "code",
   "execution_count": 139,
   "source": [
    "def functions(\n",
    "    estimation: np.ndarray, \n",
    "    locations: np.ndarray, \n",
    "    transmission_times: np.ndarray\n",
    "):\n",
    "    estimated_location_x = estimation[0,0]\n",
    "    estimated_location_y = estimation[1,0]\n",
    "    estimated_location_z = estimation[2,0]\n",
    "\n",
    "    time_difference = estimation[3,0]\n",
    "    Fa = np.zeros((4, 1))\n",
    "\n",
    "    Fa[:, 0] = (estimated_location_x - locations[:, 0])**2 + (estimated_location_y - locations[:, 1])**2 + (estimated_location_z - locations[:, 2])**2 - (LIGHT_SPEED * (transmission_times - time_difference))**2\n",
    "    return Fa"
   ],
   "outputs": [],
   "metadata": {}
  },
  {
   "cell_type": "markdown",
   "source": [
    "## Calculate location\n",
    "This function uses Newtons Multivariate Method, to estimate the location using the known locations and transmission time."
   ],
   "metadata": {}
  },
  {
   "cell_type": "code",
   "execution_count": 140,
   "source": [
    "def calculate_location(\n",
    "    locations: np.ndarray, \n",
    "    transmission_times: np.ndarray,\n",
    "    iterations: int\n",
    "):\n",
    "    estimation: np.ndarray = np.array([[0], [0], [6370], [0]])\n",
    "    \n",
    "    for _ in range(iterations):\n",
    "        F = functions(estimation, locations, transmission_times)\n",
    "        jacobian = calculate_jacobian(estimation, locations, transmission_times)\n",
    "        H = np.linalg.solve(jacobian, F)\n",
    "        estimation = estimation - H        \n",
    "    \n",
    "    return estimation"
   ],
   "outputs": [],
   "metadata": {}
  },
  {
   "cell_type": "markdown",
   "source": [
    "## Main\n",
    "This runs our program using the values given."
   ],
   "metadata": {}
  },
  {
   "cell_type": "code",
   "execution_count": 141,
   "source": [
    "def main():\n",
    "    locations = np.array([\n",
    "        [15600, 7540, 20140], \n",
    "        [18760, 2750, 18610], \n",
    "        [17610, 14630, 13480], \n",
    "        [19170, 610, 18390]\n",
    "    ])\n",
    "\n",
    "    transmission_times = np.array([\n",
    "        0.07074,\n",
    "        0.07220,\n",
    "        0.07690,\n",
    "        0.07242\n",
    "    ])\n",
    "\n",
    "    iterations = 30\n",
    "\n",
    "    print(calculate_location(locations, transmission_times, iterations))\n",
    "\n",
    "main()"
   ],
   "outputs": [
    {
     "output_type": "stream",
     "name": "stdout",
     "text": [
      "[[-4.17727096e+01]\n",
      " [-1.67891941e+01]\n",
      " [ 6.37005956e+03]\n",
      " [-3.20156583e-03]]\n"
     ]
    }
   ],
   "metadata": {}
  }
 ],
 "metadata": {
  "orig_nbformat": 4,
  "language_info": {
   "name": "python",
   "version": "3.8.3",
   "mimetype": "text/x-python",
   "codemirror_mode": {
    "name": "ipython",
    "version": 3
   },
   "pygments_lexer": "ipython3",
   "nbconvert_exporter": "python",
   "file_extension": ".py"
  },
  "kernelspec": {
   "name": "python3",
   "display_name": "Python 3.8.3 64-bit ('base': conda)"
  },
  "interpreter": {
   "hash": "250e59cf0b7b5cec3664e2265f2ec6cf89f1074736b01d93c1f9583811222aad"
  }
 },
 "nbformat": 4,
 "nbformat_minor": 2
}