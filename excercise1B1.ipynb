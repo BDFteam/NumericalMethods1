{
 "cells": [
  {
   "cell_type": "code",
   "execution_count": 33,
   "source": [
    "import numpy as np\n",
    "\n",
    "LIGHT_SPEED = 299792.458"
   ],
   "outputs": [],
   "metadata": {}
  },
  {
   "cell_type": "code",
   "execution_count": 34,
   "source": [
    "def calculate_jacobian(X):\n",
    "    jacobian = np.zeros((4,4))\n",
    "    C = LIGHT_SPEED\n",
    "    x = X[0,0]\n",
    "    y = X[1,0]\n",
    "    z = X[2,0]\n",
    "    D = X[3,0]\n",
    "    jacobian[0,0] = 2 * (x - 15600)\n",
    "    jacobian[1,0] = 2 * (x - 18760)\n",
    "    jacobian[2,0] = 2 * (x - 17610)\n",
    "    jacobian[3,0] = 2 * (x - 19170)\n",
    "   \n",
    "    jacobian[0,1] = 2 * (y - 7540)\n",
    "    jacobian[1,1] = 2 * (y - 2750)\n",
    "    jacobian[2,1] = 2 * (y - 14630)\n",
    "    jacobian[3,1] = 2 * (y - 610)\n",
    "   \n",
    "    jacobian[0,2] = 2 * (z - 20140)\n",
    "    jacobian[1,2] = 2 * (z - 18610)\n",
    "    jacobian[2,2] = 2 * (z - 13480)\n",
    "    jacobian[3,2] = 2 * (z - 18390)\n",
    "   \n",
    "    jacobian[0,3] = 2 * (C**2) * 0.07074 - 2 * (C**2) * D\n",
    "    jacobian[1,3] = 2 * (C**2) * 0.07220 - 2 * (C**2) * D\n",
    "    jacobian[2,3] = 2 * (C**2) * 0.07690 - 2 * (C**2) * D\n",
    "    jacobian[3,3] = 2 * (C**2) * 0.07242 - 2 * (C**2) * D\n",
    " \n",
    "    return jacobian"
   ],
   "outputs": [],
   "metadata": {}
  },
  {
   "cell_type": "code",
   "execution_count": 35,
   "source": [
    "def functions(X, locations: np.ndarray):\n",
    "    C = LIGHT_SPEED\n",
    "    x = X[0,0]\n",
    "    y = X[1,0]\n",
    "    z = X[2,0]\n",
    "    D = X[3,0]\n",
    "    Fa = np.array([[0],[0],[0],[0]])\n",
    "    Fa[0,0] = (x - locations[0][0])**2 + (y - locations[0][1])**2 + (z - locations[0][2])**2 - (C * (0.07074 - D))**2\n",
    "    Fa[1,0] = (x - locations[1][0])**2 + (y - locations[1][1])**2 + (z - locations[1][2])**2 - (C * (0.07220 - D))**2\n",
    "    Fa[2,0] = (x - locations[2][0])**2 + (y - locations[2][1])**2 + (z - locations[2][2])**2 - (C * (0.07690 - D))**2\n",
    "    Fa[3,0] = (x - locations[3][0])**2 + (y - locations[3][1])**2 + (z - locations[3][2])**2 - (C * (0.07242 - D))**2\n",
    "    return Fa"
   ],
   "outputs": [],
   "metadata": {}
  },
  {
   "cell_type": "code",
   "execution_count": 36,
   "source": [
    "def calculate_location(locations: np.ndarray):\n",
    "    X = np.array([[0], [0], [6370], [0]])\n",
    "    for _ in range(30):\n",
    "        F = functions(X, locations)\n",
    "        J = calculate_jacobian(X)\n",
    "        H = np.linalg.solve(J, F)\n",
    "        X = X - H        \n",
    "    print(X)"
   ],
   "outputs": [],
   "metadata": {}
  },
  {
   "cell_type": "code",
   "execution_count": 37,
   "source": [
    "def main():\n",
    "    locations = np.array([\n",
    "        [15600, 6540, 20140], \n",
    "        [18700, 2750, 18610], \n",
    "        [17610, 14630, 13480], \n",
    "        [19170, 610, 18390]\n",
    "    ])\n",
    "\n",
    "    calculate_location(locations)\n",
    "\n",
    "main()"
   ],
   "outputs": [
    {
     "output_type": "stream",
     "name": "stdout",
     "text": [
      "[[ 1.26760661e+03]\n",
      " [-1.69380053e+02]\n",
      " [ 5.37507603e+03]\n",
      " [-1.45457260e-03]]\n"
     ]
    }
   ],
   "metadata": {}
  }
 ],
 "metadata": {
  "orig_nbformat": 4,
  "language_info": {
   "name": "python",
   "version": "3.8.3",
   "mimetype": "text/x-python",
   "codemirror_mode": {
    "name": "ipython",
    "version": 3
   },
   "pygments_lexer": "ipython3",
   "nbconvert_exporter": "python",
   "file_extension": ".py"
  },
  "kernelspec": {
   "name": "python3",
   "display_name": "Python 3.8.3 64-bit ('base': conda)"
  },
  "interpreter": {
   "hash": "250e59cf0b7b5cec3664e2265f2ec6cf89f1074736b01d93c1f9583811222aad"
  }
 },
 "nbformat": 4,
 "nbformat_minor": 2
}