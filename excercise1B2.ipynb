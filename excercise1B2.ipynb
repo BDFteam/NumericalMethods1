{
 "cells": [
  {
   "cell_type": "code",
   "execution_count": 1,
   "source": [
    "import numpy as np"
   ],
   "outputs": [],
   "metadata": {}
  },
  {
   "cell_type": "code",
   "execution_count": 2,
   "source": [
    "def step1():\n",
    "    Fa = np.array([[15600, 7540 , 20140, 0.07074],[18760, 2750, 18610, 0.07220],[17610, 14630, 13480, 0.07690],[19170, 610, 18390, 0.07242]])\n",
    "    C = 299792.458\n",
    "    print(Fa[1,0])\n",
    "    v1 = np.array([[2 * (Fa[1,0] - Fa[0,0])],[2 * (Fa[2,0] - Fa[0,0])],[2 * (Fa[3,0] - Fa[0,0])]])\n",
    "    v2 = np.array([[2 * (Fa[1,1] - Fa[0,1])],[2 * (Fa[2,1] - Fa[0,1])],[2 * (Fa[3,1] - Fa[0,1])]])\n",
    "    v3 = np.array([[2 * (Fa[1,2] - Fa[0,2])],[2 * (Fa[2,2] - Fa[0,2])],[2 * (Fa[3,2] - Fa[0,2])]])\n",
    "    v4 = np.array([[2 * C**2 * (Fa[0,3] - Fa[1,3])],[2 * C**2 * (Fa[0,3] - Fa[2,3])],[2 * C**2 * (Fa[0,3] - Fa[3,3])]])\n",
    "    v5 = np.array([[Fa[0,0]**2 - Fa[1,0]**2 + Fa[0,1]**2 - Fa[1,1]**2 + Fa[0,2]**2 - Fa[1,2]**2 + C**2 * (Fa[1,3]**2 - Fa[0,3]**2)],\n",
    "                   [Fa[0,0]**2 - Fa[2,0]**2 + Fa[0,1]**2 - Fa[2,1]**2 + Fa[0,2]**2 - Fa[2,2]**2 + C**2 * (Fa[2,3]**2 - Fa[0,3]**2)],\n",
    "                   [Fa[0,0]**2 - Fa[3,0]**2 + Fa[0,1]**2 - Fa[3,1]**2 + Fa[0,2]**2 - Fa[3,2]**2 + C**2 * (Fa[3,3]**2 - Fa[0,3]**2)]])\n",
    "   \n",
    "    print(np.concatenate((v1, v2, v3), axis = 1))\n",
    "    print(np.linalg.det(np.concatenate((v1, v2, v3), axis = 1)))\n",
    "   \n",
    "    alpha1 = -1 * np.linalg.det(np.concatenate((v2, v3, v5), axis = 1)) / np.linalg.det(np.concatenate((v2, v3, v1), axis = 1))\n",
    "    beta1 = -1 * np.linalg.det(np.concatenate((v2, v3, v4), axis = 1)) / np.linalg.det(np.concatenate((v2, v3, v1), axis = 1))\n",
    "    alpha2 = -1 * np.linalg.det(np.concatenate((v1, v3, v5), axis = 1)) / np.linalg.det(np.concatenate((v1, v3, v2), axis = 1))\n",
    "    beta2 = -1 * np.linalg.det(np.concatenate((v1, v3, v4), axis = 1)) / np.linalg.det(np.concatenate((v1, v3, v2), axis = 1))\n",
    "    alpha3 = -1 * np.linalg.det(np.concatenate((v1, v2, v5), axis = 1)) / np.linalg.det(np.concatenate((v1, v2, v3), axis = 1))\n",
    "    beta3 = -1 * np.linalg.det(np.concatenate((v1, v2, v4), axis = 1)) / np.linalg.det(np.concatenate((v1, v2, v3), axis = 1))\n",
    "   \n",
    "    q0 = alpha1**2 - 2 * Fa[0,0] * alpha1 + Fa[0,0]**2 + alpha2**2 - 2 * Fa[0,1] * alpha2 + Fa[0,1]**2 + alpha3**2 - 2 * Fa[0,2] * alpha3 + Fa[0,2]**2 - C**2 * Fa[0,3]**2\n",
    "    q1 = 2 * alpha1 * beta1 - 2 * Fa[0,0] * beta1 + 2 * alpha2 * beta2 - 2 * Fa[0,1] * beta2 + 2 * alpha3 * beta3 - 2 * Fa[0,2] * beta3 + 2 * C**2 * Fa[0,3]\n",
    "    q2 = beta1**2 + beta2**2 + beta3**3 - C**2\n",
    "   \n",
    "    sol1 = (-1 * q1 + np.sqrt(q1**2 - 4 * q0 * q2)) / (2 * q2)\n",
    "    sol2 = (-1 * q1 - np.sqrt(q1**2 - 4 * q0 * q2)) / (2 * q2)\n",
    "   \n",
    "    print(sol1, sol2)\n",
    "\n",
    "    x1 = alpha1 + beta1 * sol1\n",
    "    x2 = alpha1 + beta1 * sol2\n",
    "    y1 = alpha2 + beta2 * sol1\n",
    "    y2 = alpha2 + beta2 * sol2\n",
    "    z1 = alpha3 + beta3 * sol1\n",
    "    z2 = alpha3 + beta3 * sol2\n",
    "   \n",
    "    print(x1, y1, z1, sol1)\n",
    "    print(x2, y2, z2, sol2)"
   ],
   "outputs": [],
   "metadata": {}
  },
  {
   "cell_type": "code",
   "execution_count": 3,
   "source": [
    "step1()"
   ],
   "outputs": [
    {
     "output_type": "stream",
     "name": "stdout",
     "text": [
      "18760.0\n",
      "[[  6320.  -9580.  -3060.]\n",
      " [  4020.  14180. -13320.]\n",
      " [  7140. -13860.  -3500.]]\n",
      "-223811335999.99954\n",
      "-0.0002764161744194026 0.00030204303451664323\n",
      "-41.741266616842694 -18.613543239282414 6124.964758902979 -0.0002764161744194026\n",
      "-41.73504865590884 -18.97431505630408 6076.49635180564 0.00030204303451664323\n"
     ]
    }
   ],
   "metadata": {}
  }
 ],
 "metadata": {
  "orig_nbformat": 4,
  "language_info": {
   "name": "python",
   "version": "3.8.3",
   "mimetype": "text/x-python",
   "codemirror_mode": {
    "name": "ipython",
    "version": 3
   },
   "pygments_lexer": "ipython3",
   "nbconvert_exporter": "python",
   "file_extension": ".py"
  },
  "kernelspec": {
   "name": "python3",
   "display_name": "Python 3.8.3 64-bit ('base': conda)"
  },
  "interpreter": {
   "hash": "250e59cf0b7b5cec3664e2265f2ec6cf89f1074736b01d93c1f9583811222aad"
  }
 },
 "nbformat": 4,
 "nbformat_minor": 2
}