{
 "cells": [
  {
   "cell_type": "markdown",
   "metadata": {},
   "source": [
    "# Excercise 1\n",
    "All our code for exercise 1."
   ]
  },
  {
   "cell_type": "markdown",
   "metadata": {},
   "source": [
    "### Import dependencies"
   ]
  },
  {
   "cell_type": "code",
   "execution_count": 1,
   "metadata": {},
   "outputs": [],
   "source": [
    "import numpy as np\n",
    "import matplotlib.pyplot as plt"
   ]
  },
  {
   "cell_type": "markdown",
   "metadata": {},
   "source": [
    "### Create the function\n",
    "The formula we will use in this exercise is: $f(x) = \\frac{1}{x} - \\log(x) + \\log(2)$, we will declare? this function in the next bit of code."
   ]
  },
  {
   "cell_type": "code",
   "execution_count": 2,
   "metadata": {},
   "outputs": [],
   "source": [
    "def f(x):\n",
    "    result = 1 / x - np.log(x) + np.log(2)\n",
    "    return result"
   ]
  },
  {
   "cell_type": "markdown",
   "metadata": {},
   "source": [
    "## 1.A.1 Plotting the function\n",
    "A plot of the function $f(x)$, at the interval $[0.1, 20]$."
   ]
  },
  {
   "cell_type": "code",
   "execution_count": 3,
   "metadata": {},
   "outputs": [
    {
     "data": {
      "image/png": "[encoded data removed]",
      "text/plain": [
       "<Figure size 432x288 with 1 Axes>"
      ]
     },
     "metadata": {
      "needs_background": "light"
     },
     "output_type": "display_data"
    }
   ],
   "source": [
    "def plot():\n",
    "    x = 0.1\n",
    "    i = 0\n",
    "    qq = np.empty(199)\n",
    "    qr = np.empty(199)\n",
    "    while x <= 20:\n",
    "        qq[i] = f(x)\n",
    "        qr[i] = x\n",
    "        x += 0.1\n",
    "        i += 1\n",
    "    plt.plot(qr, qq)\n",
    "    plt.grid(linestyle=\":\", linewidth=1.5)\n",
    "    plt.show()\n",
    "\n",
    "\n",
    "plot()"
   ]
  },
  {
   "cell_type": "markdown",
   "metadata": {},
   "source": [
    "## 1.A.1 False Position Method\n",
    "Below our implmentation of the False Position Method. We use the left boundry $a = 1$, and right boundry $b = 5$."
   ]
  },
  {
   "cell_type": "code",
   "execution_count": 4,
   "metadata": {},
   "outputs": [
    {
     "name": "stdout",
     "output_type": "stream",
     "text": [
      "root=2.8430598827496514\n",
      "equals_zero=True\n",
      "width_interval_reached=False\n",
      "max_iterations_reached=False\n",
      "left_boundry=1\n",
      "right_boundry=2.8430598945320167\n",
      "iterations=26\n"
     ]
    },
    {
     "data": {
      "text/plain": [
       "2.8430598827496514"
      ]
     },
     "execution_count": 4,
     "metadata": {},
     "output_type": "execute_result"
    }
   ],
   "source": [
    "def false_position():\n",
    "    left_boundry = 1\n",
    "    right_boundry = 5\n",
    "    iterations = 0\n",
    "\n",
    "    left_boundry_array = np.empty(100)  # 100 bigger than max iteration\n",
    "    right_boundry_array = np.empty(100)\n",
    "    left_boundry_array[0] = left_boundry\n",
    "    right_boundry_array[0] = right_boundry\n",
    "    equals_zero = False\n",
    "    width_interval_reached = False\n",
    "    max_iterations_reached = False\n",
    "    max_iterations = 50\n",
    "    minimum_witdh = 0.000001\n",
    "    acceptable_error = 0.00000001\n",
    "    center = 0.0\n",
    "\n",
    "    while (\n",
    "        (not equals_zero)\n",
    "        and (not width_interval_reached)\n",
    "        and (not max_iterations_reached)\n",
    "    ):\n",
    "        iterations += 1\n",
    "        center = (\n",
    "            left_boundry * f(right_boundry) - right_boundry * f(left_boundry)\n",
    "        ) / (f(right_boundry) - f(left_boundry))\n",
    "\n",
    "        if abs(f(center)) < acceptable_error:\n",
    "            equals_zero = True\n",
    "        elif np.sign(f(center)) == np.sign(f(left_boundry)):\n",
    "            left_boundry = center\n",
    "        else:\n",
    "            right_boundry = center\n",
    "        left_boundry_array[iterations] = left_boundry\n",
    "        right_boundry_array[iterations] = right_boundry\n",
    "        if iterations == max_iterations:\n",
    "            max_iterations_reached = True\n",
    "        if right_boundry - left_boundry < minimum_witdh:\n",
    "            width_interval_reached = True\n",
    "    root = center\n",
    "    print(\n",
    "        f\"{root=}\\n{equals_zero=}\\n{width_interval_reached=}\\n{max_iterations_reached=}\\n{left_boundry=}\\n{right_boundry=}\\n{iterations=}\"\n",
    "    )\n",
    "    return root\n",
    "\n",
    "false_position()"
   ]
  },
  {
   "cell_type": "markdown",
   "metadata": {},
   "source": [
    "## 1.A.2 Bisection Method\n",
    "Below our implementation of the Bisection Method, we use left boundry $a = 1$, and right boundry $b = 5$."
   ]
  },
  {
   "cell_type": "code",
   "execution_count": 5,
   "metadata": {},
   "outputs": [
    {
     "name": "stdout",
     "output_type": "stream",
     "text": [
      "root=2.843059867620468\n",
      "equals_zero=True\n",
      "width_interval=1e-08\n",
      "max_iterations_reached=False\n",
      "left_boundry=2.8430598378181458\n",
      "right_boundry=2.8430598974227905\n",
      "iterations=27\n"
     ]
    },
    {
     "data": {
      "text/plain": [
       "2.843059867620468"
      ]
     },
     "execution_count": 5,
     "metadata": {},
     "output_type": "execute_result"
    }
   ],
   "source": [
    "def bisection_method():\n",
    "    left_boundry = 1\n",
    "    right_boundry = 5\n",
    "    iterations = 0\n",
    "\n",
    "    left_boundry_array = np.empty(100)  # 100 bigger than max iteration\n",
    "    right_boundry_array = np.empty(100)\n",
    "    left_boundry_array[0] = left_boundry\n",
    "    right_boundry_array[0] = right_boundry\n",
    "    equals_zero = False\n",
    "    width_interval_reached = False\n",
    "    max_iterations_reached = False\n",
    "    max_iterations = 50\n",
    "    width_interval = 0.00000001\n",
    "    acceptable_error = 0.00000001\n",
    "    center = 0.0\n",
    "\n",
    "    while (\n",
    "        (not equals_zero)\n",
    "        and (not width_interval_reached)\n",
    "        and (not max_iterations_reached)\n",
    "    ):\n",
    "        iterations += 1\n",
    "        center = left_boundry + (right_boundry - left_boundry) / 2\n",
    "\n",
    "        if abs(f(center)) < acceptable_error:\n",
    "            equals_zero = True\n",
    "        elif np.sign(f(center)) == np.sign(f(left_boundry)):\n",
    "            left_boundry = center\n",
    "        else:\n",
    "            right_boundry = center\n",
    "\n",
    "        left_boundry_array[iterations] = left_boundry\n",
    "        right_boundry_array[iterations] = right_boundry\n",
    "\n",
    "        if iterations == max_iterations:\n",
    "            max_iterations_reached = True\n",
    "\n",
    "        if right_boundry - left_boundry < width_interval:\n",
    "            width_interval_reached = True\n",
    "\n",
    "    root = center\n",
    "    print(\n",
    "        f\"{root=}\\n{equals_zero=}\\n{width_interval=}\\n{max_iterations_reached=}\\n{left_boundry=}\\n{right_boundry=}\\n{iterations=}\"\n",
    "    )\n",
    "    return root\n",
    "\n",
    "bisection_method()"
   ]
  },
  {
   "cell_type": "markdown",
   "metadata": {},
   "source": [
    "## 1.A.3 Modified False Position\n",
    "Below our implementation of the Modified False Position, we use left boundry $a = 1$, $b = 5$."
   ]
  },
  {
   "cell_type": "code",
   "execution_count": 6,
   "metadata": {},
   "outputs": [
    {
     "name": "stdout",
     "output_type": "stream",
     "text": [
      "root=2.8430598917613343\n",
      "equals_zero=True\n",
      "width_interval_reached=False\n",
      "max_iterations_reached=False\n",
      "left_boundry=1\n",
      "right_boundry=2.843059913210903\n",
      "iteration=22\n"
     ]
    },
    {
     "data": {
      "text/plain": [
       "2.8430598917613343"
      ]
     },
     "execution_count": 6,
     "metadata": {},
     "output_type": "execute_result"
    }
   ],
   "source": [
    "def modified_false_position():\n",
    "    left_boundry = 1\n",
    "    right_boundry = 5\n",
    "    iteration = 0\n",
    "\n",
    "    counter_left_boundry_used = 0\n",
    "    counter_right_boundry_used = 0\n",
    "\n",
    "    left_boundry_array = np.empty(100)  # 100 bigger than max iteration\n",
    "    right_boundry_array = np.empty(100)\n",
    "    left_boundry_array[0] = left_boundry\n",
    "    right_boundry_array[0] = right_boundry\n",
    "\n",
    "    equals_zero = False\n",
    "    width_interval_reached = False\n",
    "    max_iterations_reached = False\n",
    "    max_iterations = 50\n",
    "    width_interval = 0.000001\n",
    "    acceptable_error = 0.00000001\n",
    "    center = 0.0\n",
    "\n",
    "    while (\n",
    "        (not equals_zero)\n",
    "        and (not width_interval_reached)\n",
    "        and (not max_iterations_reached)\n",
    "    ):\n",
    "        iteration += 1\n",
    "        if counter_left_boundry_used == 2 or counter_right_boundry_used == 2:\n",
    "            if np.sign(f(left_boundry)) == np.sign(f(right_boundry)):\n",
    "                center = (\n",
    "                    left_boundry * f(right_boundry)\n",
    "                    - 2 * right_boundry * f(left_boundry)\n",
    "                ) / (f(right_boundry) - 2 * f(left_boundry))\n",
    "            else:\n",
    "                center = (\n",
    "                    2 * left_boundry * f(right_boundry)\n",
    "                    - right_boundry * f(left_boundry)\n",
    "                ) / (2 * f(right_boundry) - f(left_boundry))\n",
    "        else:\n",
    "            center = (\n",
    "                left_boundry * f(right_boundry)\n",
    "                - right_boundry * f(left_boundry)\n",
    "            ) / (f(right_boundry) - f(left_boundry))\n",
    "\n",
    "        if abs(f(center)) < acceptable_error:\n",
    "            equals_zero = True\n",
    "        elif np.sign(f(center)) == np.sign(f(left_boundry)):\n",
    "            left_boundry = center\n",
    "            counter_right_boundry_used += 1\n",
    "            counter_left_boundry_used = 0\n",
    "        else:\n",
    "            right_boundry = center\n",
    "            counter_left_boundry_used += 1\n",
    "            counter_right_boundry_used = 0\n",
    "\n",
    "        left_boundry_array[iteration] = left_boundry\n",
    "        right_boundry_array[iteration] = right_boundry\n",
    "        if iteration == max_iterations:\n",
    "            max_iterations_reached = True\n",
    "\n",
    "        if right_boundry - left_boundry < width_interval:\n",
    "            width_interval_reached = True\n",
    "\n",
    "    root = center\n",
    "    print(\n",
    "        f\"{root=}\\n{equals_zero=}\\n{width_interval_reached=}\\n{max_iterations_reached=}\\n{left_boundry=}\\n{right_boundry=}\\n{iteration=}\"\n",
    "    )\n",
    "    return root\n",
    "\n",
    "modified_false_position()"
   ]
  },
  {
   "cell_type": "markdown",
   "metadata": {},
   "source": [
    "## 1.A.4 Findings\n",
    "\n",
    "Findings here"
   ]
  },
  {
   "cell_type": "code",
   "execution_count": null,
   "metadata": {},
   "outputs": [],
   "source": []
  }
 ],
 "metadata": {
  "interpreter": {
   "hash": "250e59cf0b7b5cec3664e2265f2ec6cf89f1074736b01d93c1f9583811222aad"
  },
  "kernelspec": {
   "display_name": "Python 3",
   "language": "python",
   "name": "python3"
  },
  "language_info": {
   "codemirror_mode": {
    "name": "ipython",
    "version": 3
   },
   "file_extension": ".py",
   "mimetype": "text/x-python",
   "name": "python",
   "nbconvert_exporter": "python",
   "pygments_lexer": "ipython3",
   "version": "3.8.8"
  }
 },
 "nbformat": 4,
 "nbformat_minor": 2
}
